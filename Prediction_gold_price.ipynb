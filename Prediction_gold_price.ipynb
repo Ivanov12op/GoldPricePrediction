{
 "cells": [
  {
   "cell_type": "markdown",
   "metadata": {},
   "source": [
    "<h1 style= \"front-size:3rem;color:orange;\"> *$* Prediction Gold Price *$* </h1>"
   ]
  },
  {
   "cell_type": "markdown",
   "metadata": {},
   "source": [
    "<img src= \"https://www.shutterstock.com/image-photo/wooden-cubes-word-gold-price-260nw-2264493389.jpg\">"
   ]
  },
  {
   "cell_type": "markdown",
   "metadata": {},
   "source": [
    " ### This project implement a machine learning model to predict future stock prices nased on historical stock prices. It uses a dataset of historical stock prices and fetures to train and avluete the model "
   ]
  },
  {
   "cell_type": "markdown",
   "metadata": {},
   "source": [
    "### Reguired Librarries\n",
    "\n",
    "     We will be using the following libraries in our project:\n",
    "        - pandas: Used for data manipulation and analyst\n",
    "        - numpy: Used for numerical operations\n",
    "        - re: Used for string operations \n",
    "        - sklearn: Used for building machine learning models\n",
    "        - tensorflow: library for deep learnimg\n",
    "        - seaborn"
   ]
  },
  {
   "cell_type": "code",
   "execution_count": 45,
   "metadata": {},
   "outputs": [
    {
     "name": "stdout",
     "output_type": "stream",
     "text": [
      "tf.Tensor(1570.0918, shape=(), dtype=float32)\n"
     ]
    }
   ],
   "source": [
    "import numpy  as np\n",
    "import pandas as pd\n",
    "import datetime\n",
    "import matplotlib.pyplot as plt\n",
    "\n",
    "from sklearn.model_selection import train_test_split\n",
    "from sklearn.linear_model import LinearRegression\n",
    "from sklearn.naive_bayes import GaussianNB\n",
    "from sklearn.metrics import mean_squared_error, mean_absolute_error, r2_score\n",
    "from sklearn.metrics import confusion_matrix\n",
    "\n",
    "import seaborn as sns\n",
    "import matplotlib.pyplot as plt\n",
    "\n",
    "import tensorflow as tf\n",
    "import keras\n",
    "from keras.models import Sequential\n",
    "from keras.callbacks import EarlyStopping\n",
    "from keras.layers import Dense, LSTM, Dropout\n",
    "\n",
    "\n",
    "import warnings\n",
    "warnings.filterwarnings('ignore')\n",
    "\n",
    "print(tf.reduce_sum(tf.random.normal([1000, 1000])))"
   ]
  },
  {
   "cell_type": "markdown",
   "metadata": {},
   "source": [
    "###  Load Dataset \n",
    "For this project I will use the gold price dataset for the last ten years, with  can be  downloaded from [Kaggle](https://www.kaggle.com/datasets/farzadnekouei/gold-price-10-years-20132023/data?select=Gold+Price+%282013-2023%29.csv). The data spans from year 2013 to 2022 year.\n"
   ]
  },
  {
   "cell_type": "code",
   "execution_count": 46,
   "metadata": {},
   "outputs": [
    {
     "data": {
      "text/html": [
       "<div>\n",
       "<style scoped>\n",
       "    .dataframe tbody tr th:only-of-type {\n",
       "        vertical-align: middle;\n",
       "    }\n",
       "\n",
       "    .dataframe tbody tr th {\n",
       "        vertical-align: top;\n",
       "    }\n",
       "\n",
       "    .dataframe thead th {\n",
       "        text-align: right;\n",
       "    }\n",
       "</style>\n",
       "<table border=\"1\" class=\"dataframe\">\n",
       "  <thead>\n",
       "    <tr style=\"text-align: right;\">\n",
       "      <th></th>\n",
       "      <th>Date</th>\n",
       "      <th>Price</th>\n",
       "      <th>Open</th>\n",
       "      <th>High</th>\n",
       "      <th>Low</th>\n",
       "      <th>Vol.</th>\n",
       "      <th>Change %</th>\n",
       "    </tr>\n",
       "  </thead>\n",
       "  <tbody>\n",
       "    <tr>\n",
       "      <th>0</th>\n",
       "      <td>12/30/2022</td>\n",
       "      <td>1,826.20</td>\n",
       "      <td>1,821.80</td>\n",
       "      <td>1,832.40</td>\n",
       "      <td>1,819.80</td>\n",
       "      <td>107.50K</td>\n",
       "      <td>0.01%</td>\n",
       "    </tr>\n",
       "    <tr>\n",
       "      <th>1</th>\n",
       "      <td>12/29/2022</td>\n",
       "      <td>1,826.00</td>\n",
       "      <td>1,812.30</td>\n",
       "      <td>1,827.30</td>\n",
       "      <td>1,811.20</td>\n",
       "      <td>105.99K</td>\n",
       "      <td>0.56%</td>\n",
       "    </tr>\n",
       "    <tr>\n",
       "      <th>2</th>\n",
       "      <td>12/28/2022</td>\n",
       "      <td>1,815.80</td>\n",
       "      <td>1,822.40</td>\n",
       "      <td>1,822.80</td>\n",
       "      <td>1,804.20</td>\n",
       "      <td>118.08K</td>\n",
       "      <td>-0.40%</td>\n",
       "    </tr>\n",
       "  </tbody>\n",
       "</table>\n",
       "</div>"
      ],
      "text/plain": [
       "         Date     Price      Open      High       Low     Vol. Change %\n",
       "0  12/30/2022  1,826.20  1,821.80  1,832.40  1,819.80  107.50K    0.01%\n",
       "1  12/29/2022  1,826.00  1,812.30  1,827.30  1,811.20  105.99K    0.56%\n",
       "2  12/28/2022  1,815.80  1,822.40  1,822.80  1,804.20  118.08K   -0.40%"
      ]
     },
     "execution_count": 46,
     "metadata": {},
     "output_type": "execute_result"
    }
   ],
   "source": [
    "# load the dataset \n",
    "df = pd.read_csv(\"./Dataset/Gold_Price.csv\")\n",
    "df.head(3)\n",
    "\n",
    "\n"
   ]
  },
  {
   "cell_type": "code",
   "execution_count": 48,
   "metadata": {},
   "outputs": [
    {
     "data": {
      "text/plain": [
       "(2583, 7)"
      ]
     },
     "execution_count": 48,
     "metadata": {},
     "output_type": "execute_result"
    }
   ],
   "source": [
    "df.shape"
   ]
  },
  {
   "cell_type": "markdown",
   "metadata": {},
   "source": [
    "### Data Preprocessing "
   ]
  },
  {
   "cell_type": "code",
   "execution_count": 49,
   "metadata": {},
   "outputs": [],
   "source": [
    "df.drop(columns=['Vol.','Change %'],inplace=True)"
   ]
  },
  {
   "cell_type": "markdown",
   "metadata": {},
   "source": [
    "#### Transforming Data \n",
    "\n",
    "      Date feature is stored as object in the frame. to increase the speed , \n",
    "      we convert it's data type to datetime and sort this feature in ascending order:\n",
    "   "
   ]
  },
  {
   "cell_type": "code",
   "execution_count": 50,
   "metadata": {},
   "outputs": [],
   "source": [
    "df['Date'] = pd.to_datetime(df['Date'])\n",
    "df=df.sort_values(by='Date',ascending=True)\n",
    "df=df.reset_index(drop=True )"
   ]
  },
  {
   "cell_type": "markdown",
   "metadata": {},
   "source": [
    "####   The \",\" sing is redundant in the dataset. First , we remove it from the entrie dataset and then change the datatype of the numerycal variables to float :\n",
    "\n"
   ]
  },
  {
   "cell_type": "code",
   "execution_count": 51,
   "metadata": {},
   "outputs": [],
   "source": [
    "NumCols = df.columns.drop(['Date'])\n",
    "df[NumCols] = df[NumCols].replace({',':''},regex = True)\n",
    "df[NumCols] = df[NumCols].astype('float64')\n"
   ]
  },
  {
   "cell_type": "code",
   "execution_count": 52,
   "metadata": {},
   "outputs": [
    {
     "data": {
      "text/html": [
       "<div>\n",
       "<style scoped>\n",
       "    .dataframe tbody tr th:only-of-type {\n",
       "        vertical-align: middle;\n",
       "    }\n",
       "\n",
       "    .dataframe tbody tr th {\n",
       "        vertical-align: top;\n",
       "    }\n",
       "\n",
       "    .dataframe thead th {\n",
       "        text-align: right;\n",
       "    }\n",
       "</style>\n",
       "<table border=\"1\" class=\"dataframe\">\n",
       "  <thead>\n",
       "    <tr style=\"text-align: right;\">\n",
       "      <th></th>\n",
       "      <th>Date</th>\n",
       "      <th>Price</th>\n",
       "      <th>Open</th>\n",
       "      <th>High</th>\n",
       "      <th>Low</th>\n",
       "    </tr>\n",
       "  </thead>\n",
       "  <tbody>\n",
       "    <tr>\n",
       "      <th>0</th>\n",
       "      <td>2013-01-02</td>\n",
       "      <td>1689.9</td>\n",
       "      <td>1675.8</td>\n",
       "      <td>1695.0</td>\n",
       "      <td>1672.1</td>\n",
       "    </tr>\n",
       "    <tr>\n",
       "      <th>1</th>\n",
       "      <td>2013-01-03</td>\n",
       "      <td>1675.6</td>\n",
       "      <td>1688.0</td>\n",
       "      <td>1689.3</td>\n",
       "      <td>1664.3</td>\n",
       "    </tr>\n",
       "    <tr>\n",
       "      <th>2</th>\n",
       "      <td>2013-01-04</td>\n",
       "      <td>1649.9</td>\n",
       "      <td>1664.4</td>\n",
       "      <td>1664.4</td>\n",
       "      <td>1630.0</td>\n",
       "    </tr>\n",
       "    <tr>\n",
       "      <th>3</th>\n",
       "      <td>2013-01-07</td>\n",
       "      <td>1647.2</td>\n",
       "      <td>1657.3</td>\n",
       "      <td>1663.8</td>\n",
       "      <td>1645.3</td>\n",
       "    </tr>\n",
       "    <tr>\n",
       "      <th>4</th>\n",
       "      <td>2013-01-08</td>\n",
       "      <td>1663.2</td>\n",
       "      <td>1651.5</td>\n",
       "      <td>1662.6</td>\n",
       "      <td>1648.8</td>\n",
       "    </tr>\n",
       "  </tbody>\n",
       "</table>\n",
       "</div>"
      ],
      "text/plain": [
       "        Date   Price    Open    High     Low\n",
       "0 2013-01-02  1689.9  1675.8  1695.0  1672.1\n",
       "1 2013-01-03  1675.6  1688.0  1689.3  1664.3\n",
       "2 2013-01-04  1649.9  1664.4  1664.4  1630.0\n",
       "3 2013-01-07  1647.2  1657.3  1663.8  1645.3\n",
       "4 2013-01-08  1663.2  1651.5  1662.6  1648.8"
      ]
     },
     "execution_count": 52,
     "metadata": {},
     "output_type": "execute_result"
    }
   ],
   "source": [
    "df.head()\n"
   ]
  },
  {
   "cell_type": "markdown",
   "metadata": {},
   "source": [
    "### Cheking dataset\n",
    "   "
   ]
  },
  {
   "cell_type": "code",
   "execution_count": 72,
   "metadata": {},
   "outputs": [
    {
     "data": {
      "text/html": [
       "<div>\n",
       "<style scoped>\n",
       "    .dataframe tbody tr th:only-of-type {\n",
       "        vertical-align: middle;\n",
       "    }\n",
       "\n",
       "    .dataframe tbody tr th {\n",
       "        vertical-align: top;\n",
       "    }\n",
       "\n",
       "    .dataframe thead th {\n",
       "        text-align: right;\n",
       "    }\n",
       "</style>\n",
       "<table border=\"1\" class=\"dataframe\">\n",
       "  <thead>\n",
       "    <tr style=\"text-align: right;\">\n",
       "      <th></th>\n",
       "      <th>Date</th>\n",
       "      <th>Price</th>\n",
       "      <th>Open</th>\n",
       "      <th>High</th>\n",
       "      <th>Low</th>\n",
       "      <th>Daily_mean</th>\n",
       "    </tr>\n",
       "  </thead>\n",
       "  <tbody>\n",
       "    <tr>\n",
       "      <th>0</th>\n",
       "      <td>2013-01-02</td>\n",
       "      <td>1689.9</td>\n",
       "      <td>1675.8</td>\n",
       "      <td>1695.0</td>\n",
       "      <td>1672.1</td>\n",
       "      <td>1683.200</td>\n",
       "    </tr>\n",
       "    <tr>\n",
       "      <th>1</th>\n",
       "      <td>2013-01-03</td>\n",
       "      <td>1675.6</td>\n",
       "      <td>1688.0</td>\n",
       "      <td>1689.3</td>\n",
       "      <td>1664.3</td>\n",
       "      <td>1679.300</td>\n",
       "    </tr>\n",
       "    <tr>\n",
       "      <th>2</th>\n",
       "      <td>2013-01-04</td>\n",
       "      <td>1649.9</td>\n",
       "      <td>1664.4</td>\n",
       "      <td>1664.4</td>\n",
       "      <td>1630.0</td>\n",
       "      <td>1652.175</td>\n",
       "    </tr>\n",
       "    <tr>\n",
       "      <th>3</th>\n",
       "      <td>2013-01-07</td>\n",
       "      <td>1647.2</td>\n",
       "      <td>1657.3</td>\n",
       "      <td>1663.8</td>\n",
       "      <td>1645.3</td>\n",
       "      <td>1653.400</td>\n",
       "    </tr>\n",
       "    <tr>\n",
       "      <th>4</th>\n",
       "      <td>2013-01-08</td>\n",
       "      <td>1663.2</td>\n",
       "      <td>1651.5</td>\n",
       "      <td>1662.6</td>\n",
       "      <td>1648.8</td>\n",
       "      <td>1656.525</td>\n",
       "    </tr>\n",
       "  </tbody>\n",
       "</table>\n",
       "</div>"
      ],
      "text/plain": [
       "        Date   Price    Open    High     Low  Daily_mean\n",
       "0 2013-01-02  1689.9  1675.8  1695.0  1672.1    1683.200\n",
       "1 2013-01-03  1675.6  1688.0  1689.3  1664.3    1679.300\n",
       "2 2013-01-04  1649.9  1664.4  1664.4  1630.0    1652.175\n",
       "3 2013-01-07  1647.2  1657.3  1663.8  1645.3    1653.400\n",
       "4 2013-01-08  1663.2  1651.5  1662.6  1648.8    1656.525"
      ]
     },
     "execution_count": 72,
     "metadata": {},
     "output_type": "execute_result"
    }
   ],
   "source": [
    "df['Daily_mean'] == (df['Price']+df['Open']+df['High']+df['Low'])/4 \n",
    "# it's not a correct mean, but it's the most near one we can do\n",
    "df.head()"
   ]
  },
  {
   "cell_type": "code",
   "execution_count": 79,
   "metadata": {},
   "outputs": [
    {
     "name": "stdout",
     "output_type": "stream",
     "text": [
      "Top 5 of Dataset:\n",
      "        Date   Price    Open    High     Low  Daily_mean\n",
      "0 2013-01-02  1689.9  1675.8  1695.0  1672.1    1683.200\n",
      "1 2013-01-03  1675.6  1688.0  1689.3  1664.3    1679.300\n",
      "2 2013-01-04  1649.9  1664.4  1664.4  1630.0    1652.175\n",
      "3 2013-01-07  1647.2  1657.3  1663.8  1645.3    1653.400\n",
      "4 2013-01-08  1663.2  1651.5  1662.6  1648.8    1656.525\n",
      "\n",
      "Total number of rows : 2583\n",
      "\n",
      "Total number of columns: 6\n",
      "\n",
      "Total number of missing values:\n",
      "Date          0\n",
      "Price         0\n",
      "Open          0\n",
      "High          0\n",
      "Low           0\n",
      "Daily_mean    0\n",
      "dtype: int64\n",
      "\n",
      "Types of variables:\n",
      "Date          datetime64[ns]\n",
      "Price                float64\n",
      "Open                 float64\n",
      "High                 float64\n",
      "Low                  float64\n",
      "Daily_mean           float64\n",
      "dtype: object\n",
      "\n"
     ]
    }
   ],
   "source": [
    "def info_dataset(df):\n",
    "    \n",
    "    print(\"Top 5 of Dataset:\", df.head(), \n",
    "          sep='\\n', end = '\\n\\n')\n",
    "    print(f\"Total number of rows : {df.shape[0]}\", \n",
    "          sep='\\n', end = '\\n\\n')\n",
    "    print(f\"Total number of columns: {df.shape[1]}\",\n",
    "          sep='\\n', end = '\\n\\n')\n",
    "    \n",
    "    print(f\"Total number of missing values:\", df.isnull().sum(), \n",
    "          sep='\\n', end = '\\n\\n')\n",
    "    print(f\"Types of variables:\", df.dtypes, \n",
    "          sep='\\n', end = '\\n\\n')\n",
    "    \n",
    "  \n",
    "info_dataset(df)"
   ]
  },
  {
   "cell_type": "markdown",
   "metadata": {},
   "source": [
    "### Visualizing Gold Price Historical Data"
   ]
  },
  {
   "cell_type": "code",
   "execution_count": 110,
   "metadata": {},
   "outputs": [
    {
     "data": {
      "image/png": "[encoded data removed]",
      "text/plain": [
       "<Figure size 1000x800 with 1 Axes>"
      ]
     },
     "metadata": {},
     "output_type": "display_data"
    }
   ],
   "source": [
    "plt.figure(figsize=(10,8))\n",
    "sns.lineplot(data=df,x=\"Date\",y=\"Price\", marker=\".\")\n",
    "plt.title(\"**** Gold Prices last ten years ****\")\n",
    "plt.ylabel(\" Price (US $)\")\n",
    "plt.grid()\n",
    "plt.show()\n"
   ]
  },
  {
   "cell_type": "markdown",
   "metadata": {},
   "source": [
    " # da se opravi "
   ]
  },
  {
   "cell_type": "code",
   "execution_count": 111,
   "metadata": {},
   "outputs": [
    {
     "data": {
      "text/plain": [
       "Text(0.5, 1.02, 'Correlation Matrix of all')"
      ]
     },
     "execution_count": 111,
     "metadata": {},
     "output_type": "execute_result"
    },
    {
     "data": {
      "image/png": "[encoded data removed]",
      "text/plain": [
       "<Figure size 640x480 with 2 Axes>"
      ]
     },
     "metadata": {},
     "output_type": "display_data"
    }
   ],
   "source": [
    "\n",
    "sns.heatmap(df.corr(numeric_only=True), annot=True)\n",
    "plt.suptitle('Correlation Matrix of all', y=1.02)"
   ]
  },
  {
   "cell_type": "code",
   "execution_count": 112,
   "metadata": {},
   "outputs": [],
   "source": [
    "#df = df.set_index('Date')\n",
    "#corr = df.corr()\n",
    "#corr.style.background_gradient(cmap = 'coolwarm')"
   ]
  },
  {
   "cell_type": "markdown",
   "metadata": {},
   "source": [
    "### Split data into train and test "
   ]
  },
  {
   "cell_type": "code",
   "execution_count": 113,
   "metadata": {},
   "outputs": [
    {
     "data": {
      "text/plain": [
       "Index(['Date', 'Price', 'Open', 'High', 'Low', 'Daily_mean'], dtype='object')"
      ]
     },
     "execution_count": 113,
     "metadata": {},
     "output_type": "execute_result"
    }
   ],
   "source": [
    "df.columns"
   ]
  },
  {
   "cell_type": "code",
   "execution_count": 114,
   "metadata": {},
   "outputs": [
    {
     "data": {
      "text/html": [
       "<div>\n",
       "<style scoped>\n",
       "    .dataframe tbody tr th:only-of-type {\n",
       "        vertical-align: middle;\n",
       "    }\n",
       "\n",
       "    .dataframe tbody tr th {\n",
       "        vertical-align: top;\n",
       "    }\n",
       "\n",
       "    .dataframe thead th {\n",
       "        text-align: right;\n",
       "    }\n",
       "</style>\n",
       "<table border=\"1\" class=\"dataframe\">\n",
       "  <thead>\n",
       "    <tr style=\"text-align: right;\">\n",
       "      <th></th>\n",
       "      <th>Date</th>\n",
       "      <th>Price</th>\n",
       "      <th>Open</th>\n",
       "      <th>High</th>\n",
       "      <th>Low</th>\n",
       "      <th>Daily_mean</th>\n",
       "    </tr>\n",
       "  </thead>\n",
       "  <tbody>\n",
       "    <tr>\n",
       "      <th>0</th>\n",
       "      <td>2013-01-02</td>\n",
       "      <td>1689.9</td>\n",
       "      <td>1675.8</td>\n",
       "      <td>1695.0</td>\n",
       "      <td>1672.1</td>\n",
       "      <td>1683.200</td>\n",
       "    </tr>\n",
       "    <tr>\n",
       "      <th>1</th>\n",
       "      <td>2013-01-03</td>\n",
       "      <td>1675.6</td>\n",
       "      <td>1688.0</td>\n",
       "      <td>1689.3</td>\n",
       "      <td>1664.3</td>\n",
       "      <td>1679.300</td>\n",
       "    </tr>\n",
       "    <tr>\n",
       "      <th>2</th>\n",
       "      <td>2013-01-04</td>\n",
       "      <td>1649.9</td>\n",
       "      <td>1664.4</td>\n",
       "      <td>1664.4</td>\n",
       "      <td>1630.0</td>\n",
       "      <td>1652.175</td>\n",
       "    </tr>\n",
       "  </tbody>\n",
       "</table>\n",
       "</div>"
      ],
      "text/plain": [
       "        Date   Price    Open    High     Low  Daily_mean\n",
       "0 2013-01-02  1689.9  1675.8  1695.0  1672.1    1683.200\n",
       "1 2013-01-03  1675.6  1688.0  1689.3  1664.3    1679.300\n",
       "2 2013-01-04  1649.9  1664.4  1664.4  1630.0    1652.175"
      ]
     },
     "execution_count": 114,
     "metadata": {},
     "output_type": "execute_result"
    }
   ],
   "source": [
    "df.head(3)"
   ]
  },
  {
   "cell_type": "code",
   "execution_count": 115,
   "metadata": {},
   "outputs": [],
   "source": [
    "#df=df.drop(columns=['Date','Open','Low'])\n",
    "#df.head(3)"
   ]
  },
  {
   "cell_type": "markdown",
   "metadata": {},
   "source": [
    "- I wil use  \"Daily_ men\"  like independent and \"Price\" like preducted(dependent) features"
   ]
  },
  {
   "cell_type": "code",
   "execution_count": 116,
   "metadata": {},
   "outputs": [
    {
     "name": "stdout",
     "output_type": "stream",
     "text": [
      "[[1683.2 ]\n",
      " [1679.3 ]\n",
      " [1652.18]]\n",
      "[1689.9 1675.6 1649.9 ... 1815.8 1826.  1826.2]\n"
     ]
    }
   ],
   "source": [
    "X = df.Daily_mean.values.round(2).reshape(-1,1)\n",
    "## to see firs 3 rows \n",
    "print (X[:3,:])\n",
    "y = df.Price.values\n",
    "print(y)"
   ]
  },
  {
   "cell_type": "markdown",
   "metadata": {},
   "source": [
    "### Split data into train and test"
   ]
  },
  {
   "cell_type": "code",
   "execution_count": 117,
   "metadata": {},
   "outputs": [
    {
     "name": "stdout",
     "output_type": "stream",
     "text": [
      "(1937, 1)\n",
      "(1937,)\n"
     ]
    }
   ],
   "source": [
    "X_train, X_test, y_train, y_test = train_test_split(X, y, test_size=0.25,random_state=42)\n",
    "print(X_train.shape)\n",
    "print(y_train.shape)"
   ]
  },
  {
   "cell_type": "markdown",
   "metadata": {},
   "source": [
    "### Fit the model \n",
    "  - The first model, which i will use is a  ***LinearRegression***  model"
   ]
  },
  {
   "cell_type": "code",
   "execution_count": 118,
   "metadata": {},
   "outputs": [],
   "source": [
    "#Create linear regression object and train the model\n",
    "\n",
    "reg = LinearRegression().fit(X_train, y_train)\n",
    "y_pred = reg.predict(X_test).round(2)"
   ]
  },
  {
   "cell_type": "code",
   "execution_count": null,
   "metadata": {},
   "outputs": [],
   "source": []
  },
  {
   "cell_type": "code",
   "execution_count": 119,
   "metadata": {},
   "outputs": [
    {
     "name": "stdout",
     "output_type": "stream",
     "text": [
      "Slope:\n",
      " [1.00014475]\n",
      "Interept: \n",
      " -0.28908497887209705\n"
     ]
    }
   ],
   "source": [
    "print(f'Slope:\\n {reg.coef_}')\n",
    "print(f'Interept: \\n {reg.intercept_}')\n"
   ]
  },
  {
   "cell_type": "markdown",
   "metadata": {},
   "source": [
    "### Visualize data and fitted model"
   ]
  },
  {
   "cell_type": "code",
   "execution_count": 120,
   "metadata": {},
   "outputs": [],
   "source": [
    "b = reg.intercept_\n",
    "m = reg.coef_\n",
    "x = X_train.reshape(-1)\n",
    "\n",
    "\n"
   ]
  },
  {
   "cell_type": "markdown",
   "metadata": {},
   "source": [
    "### Test the model "
   ]
  },
  {
   "cell_type": "code",
   "execution_count": 121,
   "metadata": {},
   "outputs": [
    {
     "data": {
      "text/plain": [
       "array([1286.3 , 1399.61, 1779.77, 1278.63])"
      ]
     },
     "execution_count": 121,
     "metadata": {},
     "output_type": "execute_result"
    }
   ],
   "source": [
    "#Make predictions use the testing set\n",
    "y_pred = reg.predict(X_test).round(2)\n",
    "y_pred[:4]"
   ]
  },
  {
   "cell_type": "code",
   "execution_count": 122,
   "metadata": {},
   "outputs": [],
   "source": [
    "# y = m*x+b\n",
    "#print( list(X_test[:3,0]))\n",
    "##print(list(y_test[:3]))"
   ]
  },
  {
   "cell_type": "code",
   "execution_count": 123,
   "metadata": {},
   "outputs": [],
   "source": [
    "#y = m*1415.9+b\n",
    "#print(y.round(2))"
   ]
  },
  {
   "cell_type": "markdown",
   "metadata": {},
   "source": [
    "### How well the model performs\n",
    "- comparison between real and predicted data "
   ]
  },
  {
   "cell_type": "code",
   "execution_count": 124,
   "metadata": {},
   "outputs": [
    {
     "name": "stdout",
     "output_type": "stream",
     "text": [
      "[1294.7 1411.8 1780.7 1275.4 1316.1 1260.4 1076.3 1817.2]\n",
      "[1286.3  1399.61 1779.77 1278.63 1319.88 1249.69 1079.97 1803.12]\n"
     ]
    }
   ],
   "source": [
    "\n",
    "print (y_test[:8].round(2))\n",
    "print(y_pred[:8].round(2))"
   ]
  },
  {
   "cell_type": "markdown",
   "metadata": {},
   "source": [
    "### Mean Absolute Error\n",
    "- MAE is the meanabsolut value of the errors"
   ]
  },
  {
   "cell_type": "code",
   "execution_count": 125,
   "metadata": {},
   "outputs": [
    {
     "data": {
      "text/plain": [
       "4.628761609907123"
      ]
     },
     "execution_count": 125,
     "metadata": {},
     "output_type": "execute_result"
    }
   ],
   "source": [
    "#The mean absolut error\n",
    "mae = mean_absolute_error(y_test,y_pred)\n",
    "mae"
   ]
  },
  {
   "cell_type": "markdown",
   "metadata": {},
   "source": [
    "# TODO : Възможно ли е акава голяма стойност na MSE "
   ]
  },
  {
   "cell_type": "markdown",
   "metadata": {},
   "source": []
  },
  {
   "cell_type": "markdown",
   "metadata": {},
   "source": [
    "### Mean Squered Error \n",
    "- MSE is the mean of the squared errors. \n",
    "*** MSE \"punishes\" larger errors, which is quite useful in the real world ***"
   ]
  },
  {
   "cell_type": "code",
   "execution_count": 126,
   "metadata": {},
   "outputs": [
    {
     "data": {
      "text/plain": [
       "43.29154086687314"
      ]
     },
     "execution_count": 126,
     "metadata": {},
     "output_type": "execute_result"
    }
   ],
   "source": [
    "mse = mean_squared_error(y_test,y_pred)\n",
    "mse"
   ]
  },
  {
   "cell_type": "markdown",
   "metadata": {},
   "source": [
    "# TODO : NE vidqh da Ima SEQUARED  \"https://scikit-learn.org/0.15/modules/generated/sklearn.metrics.mean_squared_error.html#sklearn.metrics.mean_squared_error\" "
   ]
  },
  {
   "cell_type": "markdown",
   "metadata": {},
   "source": []
  },
  {
   "cell_type": "markdown",
   "metadata": {},
   "source": [
    "### Root Mean Squer Error "
   ]
  },
  {
   "cell_type": "code",
   "execution_count": 129,
   "metadata": {},
   "outputs": [],
   "source": [
    "#rmse =  mean_squared_error(y_test,y_pred, sequared= False)\n",
    "#rmse "
   ]
  },
  {
   "cell_type": "markdown",
   "metadata": {},
   "source": [
    " # Confusion matrix 53 1:49 "
   ]
  },
  {
   "cell_type": "markdown",
   "metadata": {},
   "source": [
    "!!!!!!!!!!!!"
   ]
  },
  {
   "cell_type": "code",
   "execution_count": 38,
   "metadata": {},
   "outputs": [],
   "source": [
    "model = Sequential([\n",
    "    LSTM(50, return_sequences= True, input_shape= (X_train.shape[1], 1)),\n",
    "    LSTM(64, return_sequences= False),\n",
    "    Dense(32),\n",
    "    Dense(16),\n",
    "    Dense(1)\n",
    "])\n",
    "\n",
    "model.compile(optimizer= 'adam', loss= 'mse' , metrics= \"mean_absolute_error\")"
   ]
  },
  {
   "cell_type": "code",
   "execution_count": 46,
   "metadata": {},
   "outputs": [],
   "source": [
    "Early_stop=EarlyStopping(monitor=\"loss\",patience=10,mode=\"min\")\n",
    "callback=[Early_stop]"
   ]
  },
  {
   "cell_type": "code",
   "execution_count": 47,
   "metadata": {},
   "outputs": [
    {
     "name": "stdout",
     "output_type": "stream",
     "text": [
      "Model: \"sequential_1\"\n",
      "_________________________________________________________________\n",
      " Layer (type)                Output Shape              Param #   \n",
      "=================================================================\n",
      " lstm_2 (LSTM)               (None, 1, 50)             10400     \n",
      "                                                                 \n",
      " lstm_3 (LSTM)               (None, 64)                29440     \n",
      "                                                                 \n",
      " dense_3 (Dense)             (None, 32)                2080      \n",
      "                                                                 \n",
      " dense_4 (Dense)             (None, 16)                528       \n",
      "                                                                 \n",
      " dense_5 (Dense)             (None, 1)                 17        \n",
      "                                                                 \n",
      "=================================================================\n",
      "Total params: 42465 (165.88 KB)\n",
      "Trainable params: 42465 (165.88 KB)\n",
      "Non-trainable params: 0 (0.00 Byte)\n",
      "_________________________________________________________________\n"
     ]
    }
   ],
   "source": [
    "model.summary()"
   ]
  },
  {
   "cell_type": "code",
   "execution_count": 53,
   "metadata": {},
   "outputs": [
    {
     "name": "stdout",
     "output_type": "stream",
     "text": [
      " 1/21 [>.............................] - ETA: 1s - loss: 69987.7500 - mean_absolute_error: 236.6798"
     ]
    },
    {
     "name": "stdout",
     "output_type": "stream",
     "text": [
      "21/21 [==============================] - 0s 4ms/step - loss: 65736.5000 - mean_absolute_error: 229.2386\n"
     ]
    }
   ],
   "source": [
    "loss=model.evaluate(X_test,y_test)"
   ]
  },
  {
   "cell_type": "code",
   "execution_count": 55,
   "metadata": {},
   "outputs": [
    {
     "name": "stdout",
     "output_type": "stream",
     "text": [
      "61/61 [==============================] - 0s 4ms/step\n",
      "21/21 [==============================] - 0s 13ms/step\n"
     ]
    },
    {
     "ename": "NameError",
     "evalue": "name 'scaler' is not defined",
     "output_type": "error",
     "traceback": [
      "\u001b[0;31m---------------------------------------------------------------------------\u001b[0m",
      "\u001b[0;31mNameError\u001b[0m                                 Traceback (most recent call last)",
      "\u001b[1;32m/Users/jack/Desktop/Courses/ML_Course/Projects/GoldPricePrediction/Prediction_gold_price.ipynb Cell 57\u001b[0m line \u001b[0;36m4\n\u001b[1;32m      <a href='vscode-notebook-cell:/Users/jack/Desktop/Courses/ML_Course/Projects/GoldPricePrediction/Prediction_gold_price.ipynb#Y121sZmlsZQ%3D%3D?line=0'>1</a>\u001b[0m train_predict\u001b[39m=\u001b[39mmodel\u001b[39m.\u001b[39mpredict(X_train)\n\u001b[1;32m      <a href='vscode-notebook-cell:/Users/jack/Desktop/Courses/ML_Course/Projects/GoldPricePrediction/Prediction_gold_price.ipynb#Y121sZmlsZQ%3D%3D?line=1'>2</a>\u001b[0m test_predict\u001b[39m=\u001b[39mmodel\u001b[39m.\u001b[39mpredict(X_test)\n\u001b[0;32m----> <a href='vscode-notebook-cell:/Users/jack/Desktop/Courses/ML_Course/Projects/GoldPricePrediction/Prediction_gold_price.ipynb#Y121sZmlsZQ%3D%3D?line=3'>4</a>\u001b[0m test_predict \u001b[39m=\u001b[39m scaler\u001b[39m.\u001b[39minverse_transform(test_predict)\n",
      "\u001b[0;31mNameError\u001b[0m: name 'scaler' is not defined"
     ]
    }
   ],
   "source": [
    "train_predict=model.predict(X_train)\n",
    "test_predict=model.predict(X_test)\n",
    "\n",
    "test_predict = scaler.inverse_transform(test_predict)"
   ]
  },
  {
   "cell_type": "code",
   "execution_count": null,
   "metadata": {},
   "outputs": [],
   "source": []
  },
  {
   "cell_type": "markdown",
   "metadata": {},
   "source": [
    "#da se Proveri video 57 1:20"
   ]
  },
  {
   "cell_type": "markdown",
   "metadata": {},
   "source": [
    "LSTM Model"
   ]
  },
  {
   "cell_type": "markdown",
   "metadata": {},
   "source": [
    "### Model Destructure "
   ]
  },
  {
   "cell_type": "code",
   "execution_count": 40,
   "metadata": {},
   "outputs": [
    {
     "name": "stdout",
     "output_type": "stream",
     "text": [
      "Epoch 1/75\n",
      "61/61 [==============================] - 10s 7ms/step - loss: 2121921.5000 - mean_absolute_error: 1433.6599\n",
      "Epoch 2/75\n",
      "61/61 [==============================] - 0s 7ms/step - loss: 1676414.2500 - mean_absolute_error: 1263.8293\n",
      "Epoch 3/75\n",
      "61/61 [==============================] - 0s 8ms/step - loss: 513865.4375 - mean_absolute_error: 626.2754\n",
      "Epoch 4/75\n",
      "61/61 [==============================] - 0s 7ms/step - loss: 73519.7031 - mean_absolute_error: 223.2349\n",
      "Epoch 5/75\n",
      "61/61 [==============================] - 0s 7ms/step - loss: 66478.9219 - mean_absolute_error: 229.4249\n",
      "Epoch 6/75\n",
      "61/61 [==============================] - 0s 7ms/step - loss: 66459.2344 - mean_absolute_error: 229.3129\n",
      "Epoch 7/75\n",
      "61/61 [==============================] - 0s 7ms/step - loss: 66479.4453 - mean_absolute_error: 229.6006\n",
      "Epoch 8/75\n",
      "61/61 [==============================] - 1s 8ms/step - loss: 66459.7812 - mean_absolute_error: 228.5665\n",
      "Epoch 9/75\n",
      "61/61 [==============================] - 0s 7ms/step - loss: 66474.9688 - mean_absolute_error: 229.4983\n",
      "Epoch 10/75\n",
      "61/61 [==============================] - 0s 7ms/step - loss: 66424.9453 - mean_absolute_error: 227.5050\n",
      "Epoch 11/75\n",
      "61/61 [==============================] - 0s 7ms/step - loss: 66537.8906 - mean_absolute_error: 229.4257\n",
      "Epoch 12/75\n",
      "61/61 [==============================] - 0s 7ms/step - loss: 66542.7109 - mean_absolute_error: 229.0432\n",
      "Epoch 13/75\n",
      "61/61 [==============================] - 0s 8ms/step - loss: 66483.1719 - mean_absolute_error: 230.0133\n",
      "Epoch 14/75\n",
      "61/61 [==============================] - 0s 7ms/step - loss: 66496.9688 - mean_absolute_error: 229.4391\n",
      "Epoch 15/75\n",
      "61/61 [==============================] - 0s 6ms/step - loss: 66303.4609 - mean_absolute_error: 226.4954\n",
      "Epoch 16/75\n",
      "61/61 [==============================] - 0s 5ms/step - loss: 66696.4062 - mean_absolute_error: 230.3476\n",
      "Epoch 17/75\n",
      "61/61 [==============================] - 0s 5ms/step - loss: 66453.0078 - mean_absolute_error: 229.7997\n",
      "Epoch 18/75\n",
      "61/61 [==============================] - 0s 5ms/step - loss: 66464.8984 - mean_absolute_error: 227.6742\n",
      "Epoch 19/75\n",
      "61/61 [==============================] - 0s 5ms/step - loss: 66541.1094 - mean_absolute_error: 230.0865\n",
      "Epoch 20/75\n",
      "61/61 [==============================] - 0s 5ms/step - loss: 66432.2656 - mean_absolute_error: 229.4781\n",
      "Epoch 21/75\n",
      "61/61 [==============================] - 0s 7ms/step - loss: 66506.2734 - mean_absolute_error: 229.0137\n",
      "Epoch 22/75\n",
      "61/61 [==============================] - 0s 5ms/step - loss: 66439.7891 - mean_absolute_error: 227.4355\n",
      "Epoch 23/75\n",
      "61/61 [==============================] - 0s 5ms/step - loss: 66560.7109 - mean_absolute_error: 229.5670\n",
      "Epoch 24/75\n",
      "61/61 [==============================] - 0s 6ms/step - loss: 66521.4922 - mean_absolute_error: 228.4729\n",
      "Epoch 25/75\n",
      "61/61 [==============================] - 0s 5ms/step - loss: 66544.8359 - mean_absolute_error: 229.8269\n",
      "Epoch 26/75\n",
      "61/61 [==============================] - 0s 5ms/step - loss: 66588.0938 - mean_absolute_error: 228.4609\n",
      "Epoch 27/75\n",
      "61/61 [==============================] - 0s 7ms/step - loss: 66482.1328 - mean_absolute_error: 229.2396\n",
      "Epoch 28/75\n",
      "61/61 [==============================] - 0s 5ms/step - loss: 66626.4141 - mean_absolute_error: 229.3419\n",
      "Epoch 29/75\n",
      "61/61 [==============================] - 0s 5ms/step - loss: 66461.1016 - mean_absolute_error: 228.5595\n",
      "Epoch 30/75\n",
      "61/61 [==============================] - 0s 5ms/step - loss: 66500.7422 - mean_absolute_error: 228.8835\n",
      "Epoch 31/75\n",
      "61/61 [==============================] - 0s 5ms/step - loss: 66575.4688 - mean_absolute_error: 229.5203\n",
      "Epoch 32/75\n",
      "61/61 [==============================] - 0s 5ms/step - loss: 66541.5078 - mean_absolute_error: 229.3166\n",
      "Epoch 33/75\n",
      "61/61 [==============================] - 0s 5ms/step - loss: 66606.4375 - mean_absolute_error: 229.2330\n",
      "Epoch 34/75\n",
      "61/61 [==============================] - 0s 5ms/step - loss: 66548.2422 - mean_absolute_error: 228.1453\n",
      "Epoch 35/75\n",
      "61/61 [==============================] - 0s 5ms/step - loss: 66517.2031 - mean_absolute_error: 229.7688\n",
      "Epoch 36/75\n",
      "61/61 [==============================] - 0s 5ms/step - loss: 66402.2188 - mean_absolute_error: 229.9082\n",
      "Epoch 37/75\n",
      "61/61 [==============================] - 0s 7ms/step - loss: 66709.0312 - mean_absolute_error: 228.1001\n",
      "Epoch 38/75\n",
      "61/61 [==============================] - 0s 7ms/step - loss: 66553.4531 - mean_absolute_error: 228.2267\n",
      "Epoch 39/75\n",
      "61/61 [==============================] - 0s 5ms/step - loss: 66576.7422 - mean_absolute_error: 229.2895\n",
      "Epoch 40/75\n",
      "61/61 [==============================] - 0s 7ms/step - loss: 66558.0000 - mean_absolute_error: 228.7668\n",
      "Epoch 41/75\n",
      "61/61 [==============================] - 0s 6ms/step - loss: 66517.4141 - mean_absolute_error: 229.0016\n",
      "Epoch 42/75\n",
      "61/61 [==============================] - 0s 5ms/step - loss: 66595.5547 - mean_absolute_error: 229.6398\n",
      "Epoch 43/75\n",
      "61/61 [==============================] - 0s 8ms/step - loss: 66562.2031 - mean_absolute_error: 229.3496\n",
      "Epoch 44/75\n",
      "61/61 [==============================] - 0s 6ms/step - loss: 66519.6484 - mean_absolute_error: 228.9363\n",
      "Epoch 45/75\n",
      "61/61 [==============================] - 0s 5ms/step - loss: 67300.6016 - mean_absolute_error: 229.5267\n",
      "Epoch 46/75\n",
      "61/61 [==============================] - 0s 7ms/step - loss: 66562.6406 - mean_absolute_error: 229.7962\n",
      "Epoch 47/75\n",
      "61/61 [==============================] - 0s 5ms/step - loss: 66677.3047 - mean_absolute_error: 229.0629\n",
      "Epoch 48/75\n",
      "61/61 [==============================] - 0s 5ms/step - loss: 66678.6562 - mean_absolute_error: 228.8356\n",
      "Epoch 49/75\n",
      "61/61 [==============================] - 0s 5ms/step - loss: 66328.4844 - mean_absolute_error: 227.2924\n",
      "Epoch 50/75\n",
      "61/61 [==============================] - 0s 6ms/step - loss: 67083.6953 - mean_absolute_error: 231.1419\n",
      "Epoch 51/75\n",
      "61/61 [==============================] - 0s 6ms/step - loss: 66570.2031 - mean_absolute_error: 227.6644\n",
      "Epoch 52/75\n",
      "61/61 [==============================] - 0s 6ms/step - loss: 66785.4766 - mean_absolute_error: 229.0298\n",
      "Epoch 53/75\n",
      "61/61 [==============================] - 0s 6ms/step - loss: 66516.8750 - mean_absolute_error: 228.8577\n",
      "Epoch 54/75\n",
      "61/61 [==============================] - 0s 5ms/step - loss: 66532.2188 - mean_absolute_error: 229.9706\n",
      "Epoch 55/75\n",
      "61/61 [==============================] - 0s 5ms/step - loss: 67199.8984 - mean_absolute_error: 228.3226\n",
      "Epoch 56/75\n",
      "61/61 [==============================] - 0s 5ms/step - loss: 66639.9609 - mean_absolute_error: 228.3379\n",
      "Epoch 57/75\n",
      "61/61 [==============================] - 0s 5ms/step - loss: 66777.1250 - mean_absolute_error: 230.0615\n",
      "Epoch 58/75\n",
      "61/61 [==============================] - 0s 5ms/step - loss: 66510.1094 - mean_absolute_error: 228.9782\n",
      "Epoch 59/75\n",
      "61/61 [==============================] - 0s 5ms/step - loss: 66526.2812 - mean_absolute_error: 228.6752\n",
      "Epoch 60/75\n",
      "61/61 [==============================] - 0s 6ms/step - loss: 66514.8203 - mean_absolute_error: 229.3611\n",
      "Epoch 61/75\n",
      "61/61 [==============================] - 0s 6ms/step - loss: 66777.7422 - mean_absolute_error: 230.0511\n",
      "Epoch 62/75\n",
      "61/61 [==============================] - 0s 5ms/step - loss: 66812.4922 - mean_absolute_error: 229.1139\n",
      "Epoch 63/75\n",
      "61/61 [==============================] - 0s 8ms/step - loss: 66579.4844 - mean_absolute_error: 227.4423\n",
      "Epoch 64/75\n",
      "61/61 [==============================] - 0s 6ms/step - loss: 66695.7188 - mean_absolute_error: 229.5298\n",
      "Epoch 65/75\n",
      "61/61 [==============================] - 0s 6ms/step - loss: 66531.2578 - mean_absolute_error: 228.7423\n",
      "Epoch 66/75\n",
      "61/61 [==============================] - 0s 5ms/step - loss: 66698.7812 - mean_absolute_error: 229.3313\n",
      "Epoch 67/75\n",
      "61/61 [==============================] - 0s 6ms/step - loss: 66906.7578 - mean_absolute_error: 229.6198\n",
      "Epoch 68/75\n",
      "61/61 [==============================] - 0s 6ms/step - loss: 66590.2031 - mean_absolute_error: 229.7218\n",
      "Epoch 69/75\n",
      "61/61 [==============================] - 0s 6ms/step - loss: 66565.3672 - mean_absolute_error: 227.6331\n",
      "Epoch 70/75\n",
      "61/61 [==============================] - 0s 5ms/step - loss: 66618.6953 - mean_absolute_error: 230.2193\n",
      "Epoch 71/75\n",
      "61/61 [==============================] - 0s 7ms/step - loss: 66672.4844 - mean_absolute_error: 228.6941\n",
      "Epoch 72/75\n",
      "61/61 [==============================] - 0s 8ms/step - loss: 66707.3984 - mean_absolute_error: 228.2981\n",
      "Epoch 73/75\n",
      "61/61 [==============================] - 0s 5ms/step - loss: 66737.8594 - mean_absolute_error: 229.4069\n",
      "Epoch 74/75\n",
      "61/61 [==============================] - 0s 7ms/step - loss: 66690.3203 - mean_absolute_error: 229.1310\n",
      "Epoch 75/75\n",
      "61/61 [==============================] - 0s 6ms/step - loss: 66565.9453 - mean_absolute_error: 229.2325\n"
     ]
    }
   ],
   "source": [
    "# Fitting the LSTM to the Training set\n",
    "callbacks = [EarlyStopping(monitor= 'loss', patience= 10 , restore_best_weights= True)]\n",
    "history = model.fit(X_train, y_train, epochs= 75, batch_size= 32  )"
   ]
  },
  {
   "cell_type": "code",
   "execution_count": 31,
   "metadata": {},
   "outputs": [
    {
     "name": "stdout",
     "output_type": "stream",
     "text": [
      "21/21 [==============================] - 2s 5ms/step\n"
     ]
    },
    {
     "data": {
      "text/plain": [
       "(646, 1)"
      ]
     },
     "execution_count": 31,
     "metadata": {},
     "output_type": "execute_result"
    }
   ],
   "source": [
    "#inverse y_test scaling\n",
    "predictions = model.predict(X_test)\n",
    "\n",
    "#inverse predictions scaling\n",
    "#predictions = scaler.inverse_transform(predictions)\n",
    "predictions.shape\n",
    "\n",
    "#Vizualizaciq"
   ]
  },
  {
   "cell_type": "code",
   "execution_count": 32,
   "metadata": {},
   "outputs": [
    {
     "data": {
      "text/plain": [
       "16.58"
      ]
     },
     "execution_count": 32,
     "metadata": {},
     "output_type": "execute_result"
    }
   ],
   "source": [
    "#inverse y_test scaling\n",
    "#y_test = staticmethod.inverse_transform([y_test])\n",
    "\n",
    "RMSE = np.sqrt(np.mean( y_test - predictions )**2).round(2)\n",
    "RMSE"
   ]
  },
  {
   "cell_type": "code",
   "execution_count": 228,
   "metadata": {},
   "outputs": [],
   "source": [
    "#train = X_train \n",
    "#test = X_test\n",
    "#predictions = predictions \n",
    "\n",
    "#plt.figure(figsize= (16, 6))\n",
    "##plt.title('Stock Price Prediction', fontsize= 16)\n",
    "#plt.xlabel(\"Date\", fontsize= 16)\n",
    "#plt.ylabel('Price', fontsize= 16)\n",
    "#plt.plot(X_train)\n",
    "#plt.plot(X_test)\n",
    "#plt.plot(predictions)\n",
    "#plt.legend(['Train', 'Test', 'Predictions']#"
   ]
  },
  {
   "cell_type": "code",
   "execution_count": null,
   "metadata": {},
   "outputs": [],
   "source": []
  }
 ],
 "metadata": {
  "kernelspec": {
   "display_name": "Python 3",
   "language": "python",
   "name": "python3"
  },
  "language_info": {
   "codemirror_mode": {
    "name": "ipython",
    "version": 3
   },
   "file_extension": ".py",
   "mimetype": "text/x-python",
   "name": "python",
   "nbconvert_exporter": "python",
   "pygments_lexer": "ipython3",
   "version": "3.10.11"
  },
  "orig_nbformat": 4
 },
 "nbformat": 4,
 "nbformat_minor": 2
}
